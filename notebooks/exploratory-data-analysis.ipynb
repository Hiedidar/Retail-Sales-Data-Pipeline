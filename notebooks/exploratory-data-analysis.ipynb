# Notebook: exploratory-data-analysis.ipynb (skeleton)
# Use this notebook to explore the transactions and create visuals for Power BI planning.
